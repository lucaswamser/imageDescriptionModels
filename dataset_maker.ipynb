{
  "cells": [
    {
      "cell_type": "code",
      "execution_count": 1,
      "metadata": {
        "id": "PTlM0npxzWMp"
      },
      "outputs": [],
      "source": [
        "import tensorflow as tf\n",
        "\n",
        "# You'll generate plots of attention in order to see which parts of an image\n",
        "# your model focuses on during captioning\n",
        "import matplotlib.pyplot as plt\n",
        "\n",
        "import collections\n",
        "import random\n",
        "import numpy as np\n",
        "import os\n",
        "import time\n",
        "import json\n",
        "from PIL import Image"
      ]
    },
    {
      "cell_type": "code",
      "execution_count": 14,
      "metadata": {
        "id": "SgKo3D9y4tHb"
      },
      "outputs": [],
      "source": [
        "random.seed(30)"
      ]
    },
    {
      "cell_type": "code",
      "execution_count": 3,
      "metadata": {
        "colab": {
          "base_uri": "https://localhost:8080/"
        },
        "id": "9XrCUKM8zWMw",
        "outputId": "ce8fee8f-e000-41bd-d142-74058bb5a655"
      },
      "outputs": [
        {
          "name": "stdout",
          "output_type": "stream",
          "text": [
            "Downloading data from http://images.cocodataset.org/zips/train2014.zip\n",
            "13510574080/13510573713 [==============================] - 870s 0us/step\n",
            "13510582272/13510573713 [==============================] - 870s 0us/step\n"
          ]
        }
      ],
      "source": [
        "# Download caption annotation files\n",
        "annotation_folder = '/annotations/'\n",
        "if not os.path.exists(os.path.abspath('.') + annotation_folder):\n",
        "  annotation_zip = tf.keras.utils.get_file('captions.zip',\n",
        "                                           cache_subdir=os.path.abspath('.'),\n",
        "                                           origin='http://images.cocodataset.org/annotations/annotations_trainval2014.zip',\n",
        "                                           extract=True)\n",
        "  annotation_file = os.path.dirname(annotation_zip)+'/annotations/captions_train2014.json'\n",
        "  os.remove(annotation_zip)\n",
        "\n",
        "# Download image files\n",
        "image_folder = '/train2014/'\n",
        "if not os.path.exists(os.path.abspath('.') + image_folder):\n",
        "  image_zip = tf.keras.utils.get_file('train2014.zip',\n",
        "                                      cache_subdir=os.path.abspath('.'),\n",
        "                                      origin='http://images.cocodataset.org/zips/train2014.zip',\n",
        "                                      extract=True)\n",
        "  PATH = os.path.dirname(image_zip) + image_folder\n",
        "  os.remove(image_zip)\n",
        "else:\n",
        "  PATH = os.path.abspath('.') + image_folder"
      ]
    },
    {
      "cell_type": "code",
      "execution_count": 7,
      "metadata": {
        "id": "YjTc-2clzWMx"
      },
      "outputs": [],
      "source": [
        "with open(annotation_file, 'r') as f:\n",
        "    annotations = json.load(f)"
      ]
    },
    {
      "cell_type": "code",
      "execution_count": 8,
      "metadata": {
        "id": "8yTJVeyezWMy"
      },
      "outputs": [],
      "source": [
        "# Group all captions together having the same image ID.\n",
        "image_path_to_caption = collections.defaultdict(list)\n",
        "for val in annotations['annotations']:\n",
        "  caption = f\"<start> {val['caption']} <end>\"\n",
        "  image_path = PATH + 'COCO_train2014_' + '%012d.jpg' % (val['image_id'])\n",
        "  image_path_to_caption[image_path].append(caption)"
      ]
    },
    {
      "cell_type": "code",
      "execution_count": 23,
      "metadata": {
        "colab": {
          "base_uri": "https://localhost:8080/"
        },
        "id": "C1fJX919zWM0",
        "outputId": "9939ba08-345c-4786-ce61-f243d0a51d94"
      },
      "outputs": [
        {
          "name": "stdout",
          "output_type": "stream",
          "text": [
            "6000\n"
          ]
        }
      ],
      "source": [
        "image_paths = list(image_path_to_caption.keys())\n",
        "random.seed(30)\n",
        "random.shuffle(image_paths)\n",
        "\n",
        "train_image_paths = image_paths[:6000]\n",
        "print(len(train_image_paths))\n",
        "\n",
        "#print(train_image_paths[:3])"
      ]
    },
    {
      "cell_type": "code",
      "execution_count": 25,
      "metadata": {
        "colab": {
          "base_uri": "https://localhost:8080/"
        },
        "id": "Ix8AUbfSzWM1",
        "outputId": "ff15cb72-5689-472c-dfaa-67df69b576d7"
      },
      "outputs": [
        {
          "name": "stdout",
          "output_type": "stream",
          "text": [
            "30015\n",
            "30015\n"
          ]
        }
      ],
      "source": [
        "train_captions = []\n",
        "img_name_vector = []\n",
        "\n",
        "for image_path in train_image_paths:\n",
        "  caption_list = image_path_to_caption[image_path]\n",
        "  train_captions.extend(caption_list)\n",
        "  img_name_vector.extend([image_path] * len(caption_list))\n",
        "\n",
        "print(len(img_name_vector))\n",
        "print(len(train_captions))"
      ]
    },
    {
      "cell_type": "code",
      "execution_count": 26,
      "metadata": {
        "colab": {
          "base_uri": "https://localhost:8080/"
        },
        "id": "r3UKG0Fh55Vq",
        "outputId": "2503cf11-cc1c-46f7-e18e-7b3219da4107"
      },
      "outputs": [
        {
          "name": "stdout",
          "output_type": "stream",
          "text": [
            "Mounted at /content/drive\n"
          ]
        }
      ],
      "source": [
        "from google.colab import drive\n",
        "drive.mount('/content/drive')"
      ]
    },
    {
      "cell_type": "code",
      "execution_count": 32,
      "metadata": {
        "id": "hUZwLRTP6JMW"
      },
      "outputs": [],
      "source": [
        "!tar -xf /content/drive/MyDrive/Colab\\ Notebooks/datasets/dataset.tar.gz"
      ]
    },
    {
      "cell_type": "code",
      "execution_count": 33,
      "metadata": {
        "colab": {
          "base_uri": "https://localhost:8080/"
        },
        "id": "1X3wi9BAzWM2",
        "outputId": "c76a454d-b9d5-445e-9dbc-79bfe1263216"
      },
      "outputs": [
        {
          "name": "stdout",
          "output_type": "stream",
          "text": [
            "6993\n"
          ]
        }
      ],
      "source": [
        "import glob\n",
        "\n",
        "print(len(glob.glob(\"graduation/*.txt\")))\n",
        "train_captions2 = []\n",
        "img_name_vector2 = []\n",
        "\n",
        "for image_path in glob.glob(\"graduation/*.jpg\"):\n",
        "  caption_list = image_path_to_caption[image_path]\n",
        "  with open(image_path.replace(\".jpg\",\"2.txt\")) as f:\n",
        "    #train_captions2.extend(caption_list)\n",
        "    train_captions2.append(\"<start> \" + f.read() + \" <end>\")\n",
        "  img_name_vector2.extend([image_path])\n",
        "train_captions.extend(train_captions2)\n",
        "img_name_vector.extend(img_name_vector2)\n"
      ]
    },
    {
      "cell_type": "code",
      "execution_count": 39,
      "metadata": {
        "id": "CDcz1ddI8p3X"
      },
      "outputs": [],
      "source": [
        "dataset_all = list(zip(img_name_vector,train_captions))"
      ]
    },
    {
      "cell_type": "code",
      "execution_count": 40,
      "metadata": {
        "colab": {
          "base_uri": "https://localhost:8080/"
        },
        "id": "A_8BQrat7Ug8",
        "outputId": "0252d11b-81e8-4d6d-ca38-b5b269efa65c"
      },
      "outputs": [
        {
          "name": "stdout",
          "output_type": "stream",
          "text": [
            "37007\n",
            "37007\n",
            "['graduation/4673473841_789c058db9.jpg', 'graduation/10100422_0feca68bfb.jpg', 'graduation/149512183_05e8e86ec0.jpg', 'graduation/2851620331_119a6abd43.jpg', 'graduation/8967268358_4e00e61e2d.jpg', 'graduation/4721399529_5745aef56e.jpg', 'graduation/18497101025_b15a526a30.jpg', 'graduation/340741625_9c5b796bc1.jpg', 'graduation/g012_0102.jpg', 'graduation/5932422042_99b3ed82a2.jpg']\n",
            "[('graduation/4673473841_789c058db9.jpg', '<start> a group of girls in graduation caps posing for a picture <end>'), ('graduation/10100422_0feca68bfb.jpg', '<start> a man and a woman standing on a wall <end>'), ('graduation/149512183_05e8e86ec0.jpg', '<start> a crowd of people watching a performance on a stage <end>'), ('graduation/2851620331_119a6abd43.jpg', '<start> a shark in the water with its mouth open <end>'), ('graduation/8967268358_4e00e61e2d.jpg', '<start> two women posing for a picture in front of the parliament building <end>'), ('graduation/4721399529_5745aef56e.jpg', '<start> a woman in a black dress holding a folder and shaking the hand of a man <end>'), ('graduation/18497101025_b15a526a30.jpg', '<start> a man in a military uniform standing next to a woman and a man in graduation <end>'), ('graduation/340741625_9c5b796bc1.jpg', '<start> a woman drinking a glass of wine <end>'), ('graduation/g012_0102.jpg', '<start> a group of people talking in a lobby <end>'), ('graduation/5932422042_99b3ed82a2.jpg', '<start> people sitting in chairs watching a presentation on a screen <end>')]\n"
          ]
        }
      ],
      "source": [
        "print(len(img_name_vector))\n",
        "print(len(train_captions))\n",
        "print(img_name_vector[-10:])\n",
        "print(dataset_all[-10:])\n"
      ]
    },
    {
      "cell_type": "code",
      "execution_count": 41,
      "metadata": {
        "id": "lo4O2Jx379KC"
      },
      "outputs": [],
      "source": [
        "random.seed(30)\n",
        "random.shuffle(dataset_all)\n",
        "train_vector = dataset_all[0:27755]\n",
        "test_vector = dataset_all[27756:33306]\n",
        "validation_vector = dataset_all[33307:37007]\n",
        "\n"
      ]
    },
    {
      "cell_type": "code",
      "execution_count": 47,
      "metadata": {
        "id": "ymaqFTUjzWM4"
      },
      "outputs": [],
      "source": [
        "import json\n",
        "\n",
        "with open(\"dataset.json\",\"w+\") as f:\n",
        "  f.write(json.dumps({\n",
        "      \"train_vector\":train_vector,\n",
        "      \"test_vector\":test_vector,\n",
        "      \"validation_vector\":validation_vector\n",
        "  }))"
      ]
    },
    {
      "cell_type": "code",
      "execution_count": 45,
      "metadata": {
        "colab": {
          "base_uri": "https://localhost:8080/"
        },
        "id": "44COVukRB_zD",
        "outputId": "ec8c2d5d-1624-4994-dfa5-35afac680e82"
      },
      "outputs": [
        {
          "name": "stdout",
          "output_type": "stream",
          "text": [
            "13G\ttrain2014\n"
          ]
        }
      ],
      "source": [
        "!du -sh train2014"
      ]
    }
  ],
  "metadata": {
    "colab": {
      "provenance": []
    },
    "gpuClass": "standard",
    "kernelspec": {
      "display_name": "Python 3.8.0 64-bit",
      "language": "python",
      "name": "python3"
    },
    "language_info": {
      "name": "python",
      "version": "3.8.0"
    },
    "orig_nbformat": 4,
    "vscode": {
      "interpreter": {
        "hash": "df0893f56f349688326838aaeea0de204df53a132722cbd565e54b24a8fec5f6"
      }
    }
  },
  "nbformat": 4,
  "nbformat_minor": 0
}
