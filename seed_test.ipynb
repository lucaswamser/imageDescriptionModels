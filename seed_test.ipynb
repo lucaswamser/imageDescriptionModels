{
 "cells": [
  {
   "cell_type": "code",
   "execution_count": null,
   "metadata": {},
   "outputs": [],
   "source": []
  },
  {
   "cell_type": "code",
   "execution_count": 42,
   "metadata": {},
   "outputs": [
    {
     "name": "stdout",
     "output_type": "stream",
     "text": [
      "first Number 42\n",
      "Second Number  50\n",
      "Third Number 42\n"
     ]
    }
   ],
   "source": [
    "import random\n",
    "\n",
    "random.seed(30)\n",
    "print(\"first Number\", random.randint(25, 50))\n",
    "\n",
    "# generates a different random number\n",
    "print(\"Second Number \", random.randint(25, 50))\n",
    "\n",
    "# will generate a same random number as first one because seed value is same\n",
    "random.seed(30)\n",
    "print(\"Third Number\", random.randint(25, 50))\n",
    "\n"
   ]
  },
  {
   "cell_type": "code",
   "execution_count": 52,
   "metadata": {},
   "outputs": [
    {
     "name": "stdout",
     "output_type": "stream",
     "text": [
      "[9, 6, 1]\n",
      "[20, 4, 6]\n",
      "[7, 20, 7]\n",
      "[6, 20, 7, 1, 7, 4, 9, 1, 5]\n"
     ]
    }
   ],
   "source": [
    "random.seed(30)\n",
    "\n",
    "lista_teste = [1,4,6,7,9,20,1,5,7]\n",
    "\n",
    "print(random.choices(lista_teste,k=3))\n",
    "\n",
    "\n",
    "print(random.choices(lista_teste,k=3))\n",
    "\n",
    "print(random.choices(lista_teste,k=3))\n",
    "\n",
    "random.shuffle(lista_teste)\n",
    "print(lista_teste)"
   ]
  }
 ],
 "metadata": {
  "kernelspec": {
   "display_name": "Python 3.6.9 64-bit",
   "language": "python",
   "name": "python3"
  },
  "language_info": {
   "codemirror_mode": {
    "name": "ipython",
    "version": 3
   },
   "file_extension": ".py",
   "mimetype": "text/x-python",
   "name": "python",
   "nbconvert_exporter": "python",
   "pygments_lexer": "ipython3",
   "version": "3.6.9"
  },
  "orig_nbformat": 4,
  "vscode": {
   "interpreter": {
    "hash": "31f2aee4e71d21fbe5cf8b01ff0e069b9275f58929596ceb00d14d90e3e16cd6"
   }
  }
 },
 "nbformat": 4,
 "nbformat_minor": 2
}
